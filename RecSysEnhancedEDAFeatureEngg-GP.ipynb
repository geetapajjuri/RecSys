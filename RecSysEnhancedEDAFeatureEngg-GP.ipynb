{
 "cells": [
  {
   "cell_type": "code",
   "execution_count": 1,
   "id": "d1fd2ab5",
   "metadata": {},
   "outputs": [],
   "source": [
    "# Preprocessing and Helper Functions\n",
    "# First, let's set up the preprocessing and helper functions that will be used by the RecSys models.\n",
    "\n",
    "import pandas as pd\n",
    "import numpy as np\n",
    "from tqdm import tqdm\n",
    "from datetime import timedelta\n"
   ]
  },
  {
   "cell_type": "code",
   "execution_count": null,
   "id": "21c0c9ff",
   "metadata": {},
   "outputs": [],
   "source": [
    "# Load the dataset\n",
    "train_data = pd.read_csv('train_set.csv')\n",
    "\n",
    "# Convert date columns to datetime format\n",
    "train_data['checkin'] = pd.to_datetime(train_data['checkin'])\n",
    "train_data['checkout'] = pd.to_datetime(train_data['checkout'])\n",
    "\n",
    "# Sort the data by user trip ID and check-in date to maintain the chronological order\n",
    "train_data.sort_values(by=['utrip_id', 'checkin'], inplace=True)\n",
    "\n",
    "# Create a city_country column\n",
    "train_data['city_country'] = train_data['city_id'].astype(str) + '_' + train_data['hotel_country'].astype(str)\n"
   ]
  },
  {
   "cell_type": "code",
   "execution_count": null,
   "id": "4599c4d2",
   "metadata": {},
   "outputs": [],
   "source": [
    "#Create city and country chains with additional features"
   ]
  },
  {
   "cell_type": "code",
   "execution_count": 2,
   "id": "80fce1ff",
   "metadata": {},
   "outputs": [
    {
     "name": "stderr",
     "output_type": "stream",
     "text": [
      "100%|█████████████████████████████████| 217686/217686 [01:11<00:00, 3049.63it/s]\n"
     ]
    },
    {
     "name": "stdout",
     "output_type": "stream",
     "text": [
      "    utrip_id  user_id                                      cities_chain  \\\n",
      "0  1000027_1  1000027                       [8183, 15626, 60902, 30628]   \n",
      "1  1000033_1  1000033               [38677, 52089, 21328, 27485, 38677]   \n",
      "2  1000045_1  1000045  [64876, 55128, 9608, 31817, 36170, 58178, 36063]   \n",
      "3  1000083_1  1000083                      [55990, 14705, 35160, 36063]   \n",
      "4   100008_1   100008                 [11306, 12096, 6761, 6779, 65690]   \n",
      "\n",
      "                                     countries_chain  trip_duration  \\\n",
      "0                   [Gondal, Gondal, Gondal, Gondal]              8   \n",
      "1  [Cobra Island, Cobra Island, Cobra Island, Cob...             10   \n",
      "2  [Fook Island, Fook Island, Fook Island, Carpat...             11   \n",
      "3          [Osterlich, Osterlich, Osterlich, Gondal]              5   \n",
      "4  [Kamistan, Kamistan, Kamistan, Kamistan, Kamis...              9   \n",
      "\n",
      "          stay_durations                                     device_classes  \\\n",
      "0           [1, 2, 2, 3]               [desktop, desktop, desktop, desktop]   \n",
      "1        [2, 1, 2, 2, 3]       [mobile, desktop, desktop, desktop, desktop]   \n",
      "2  [2, 2, 2, 1, 1, 2, 1]  [desktop, desktop, desktop, desktop, mobile, m...   \n",
      "3           [1, 1, 1, 2]                   [mobile, mobile, mobile, mobile]   \n",
      "4        [3, 1, 1, 2, 2]      [desktop, desktop, desktop, desktop, desktop]   \n",
      "\n",
      "                             affiliate_ids         checkin_months  \\\n",
      "0                  [7168, 7168, 7168, 253]           [8, 8, 8, 8]   \n",
      "1                [359, 384, 384, 384, 384]        [4, 4, 4, 4, 4]   \n",
      "2  [2790, 7974, 7974, 7974, 359, 359, 359]  [6, 6, 6, 6, 6, 6, 6]   \n",
      "3                     [359, 359, 359, 359]           [6, 6, 6, 6]   \n",
      "4           [8436, 8436, 8436, 8436, 8436]        [7, 7, 7, 7, 7]   \n",
      "\n",
      "    checkin_days_of_week                                 city_country_chain  \n",
      "0           [5, 6, 1, 3]  [8183_Gondal, 15626_Gondal, 60902_Gondal, 3062...  \n",
      "1        [5, 0, 1, 3, 5]  [38677_Cobra Island, 52089_Cobra Island, 21328...  \n",
      "2  [5, 0, 2, 4, 5, 6, 1]  [64876_Fook Island, 55128_Fook Island, 9608_Fo...  \n",
      "3           [0, 1, 2, 3]  [55990_Osterlich, 14705_Osterlich, 35160_Oster...  \n",
      "4        [0, 3, 4, 5, 0]  [11306_Kamistan, 12096_Kamistan, 6761_Kamistan...  \n"
     ]
    }
   ],
   "source": [
    "# Initialize tqdm for progress tracking\n",
    "tqdm.pandas()\n",
    "\n",
    "# Function to calculate trip duration\n",
    "def calculate_trip_duration(checkin, checkout):\n",
    "    return (checkout - checkin).days\n",
    "\n",
    "# Function to calculate stay duration\n",
    "def calculate_stay_duration(checkin, checkout):\n",
    "    return (checkout - checkin).days\n",
    "\n",
    "# Group by utrip_id and create the city and country chains with additional features\n",
    "trip_chains = train_data.groupby('utrip_id').progress_apply(lambda group: pd.Series({\n",
    "    'user_id': group['user_id'].iloc[0],\n",
    "    'cities_chain': list(group['city_id']),\n",
    "    'countries_chain': list(group['hotel_country']),\n",
    "    'trip_duration': calculate_trip_duration(group['checkin'].iloc[0], group['checkout'].iloc[-1]),\n",
    "    'stay_durations': list(group.apply(lambda row: calculate_stay_duration(row['checkin'], row['checkout']), axis=1)),\n",
    "    'device_classes': list(group['device_class']),\n",
    "    'affiliate_ids': list(group['affiliate_id']),\n",
    "    'checkin_months': list(group['checkin'].dt.month),\n",
    "    'checkin_days_of_week': list(group['checkin'].dt.dayofweek)\n",
    "})).reset_index()\n",
    "\n",
    "# Rename columns for clarity\n",
    "trip_chains.columns = ['utrip_id', 'user_id', 'cities_chain', 'countries_chain', 'trip_duration', 'stay_durations',\n",
    "                       'device_classes', 'affiliate_ids', 'checkin_months', 'checkin_days_of_week']\n",
    "\n",
    "# Create a new DataFrame for trip chains\n",
    "trip_chains_df = trip_chains.copy()\n",
    "\n",
    "# Add city_country chains to the DataFrame\n",
    "trip_chains_df['city_country_chain'] = trip_chains_df.apply(\n",
    "    lambda row: [f\"{city}_{country}\" for city, country in zip(row['cities_chain'], row['countries_chain'])], axis=1)\n",
    "\n",
    "# Display the first few rows of the trip_chains_df DataFrame\n",
    "print(trip_chains_df.head())\n"
   ]
  },
  {
   "cell_type": "code",
   "execution_count": 4,
   "id": "73d2811c",
   "metadata": {},
   "outputs": [
    {
     "name": "stdout",
     "output_type": "stream",
     "text": [
      "Trip chains written to trip_chains_enhanced.xlsx\n"
     ]
    }
   ],
   "source": [
    "# Write the trip_chains_df DataFrame to an Excel file\n",
    "output_file = 'trip_chains_enhanced.xlsx'\n",
    "trip_chains_df.to_excel(output_file, index=False)\n",
    "print(f'Trip chains written to {output_file}')\n"
   ]
  },
  {
   "cell_type": "code",
   "execution_count": 5,
   "id": "86681829",
   "metadata": {},
   "outputs": [
    {
     "name": "stdout",
     "output_type": "stream",
     "text": [
      "next_place             10002_Elbonia  10005_Fook Island  10006_Bartovia  \\\n",
      "current_place                                                             \n",
      "10001_Trans-Carpathia            0.0                0.0             0.0   \n",
      "10002_Elbonia                    0.0                0.0             0.0   \n",
      "10006_Bartovia                   0.0                0.0             0.0   \n",
      "10007_Novistrana                 0.0                0.0             0.0   \n",
      "10009_Carpathia                  0.0                0.0             0.0   \n",
      "\n",
      "next_place             10007_Novistrana  10010_Bandaria  10012_Gondal  \\\n",
      "current_place                                                           \n",
      "10001_Trans-Carpathia               0.0             0.0           0.0   \n",
      "10002_Elbonia                       0.0             0.0           0.0   \n",
      "10006_Bartovia                      0.0             0.0           0.0   \n",
      "10007_Novistrana                    0.0             0.0           0.0   \n",
      "10009_Carpathia                     0.0             0.0           0.0   \n",
      "\n",
      "next_place             10013_Fook Island  10014_Bozatta  \\\n",
      "current_place                                             \n",
      "10001_Trans-Carpathia                0.0            0.0   \n",
      "10002_Elbonia                        0.0            0.0   \n",
      "10006_Bartovia                       0.0            0.0   \n",
      "10007_Novistrana                     0.0            0.0   \n",
      "10009_Carpathia                      0.0            0.0   \n",
      "\n",
      "next_place             10015_Robo-Hungarian Empire  10016_Cobra Island  ...  \\\n",
      "current_place                                                           ...   \n",
      "10001_Trans-Carpathia                          0.0                 0.0  ...   \n",
      "10002_Elbonia                                  0.0                 0.0  ...   \n",
      "10006_Bartovia                                 0.0                 0.0  ...   \n",
      "10007_Novistrana                               0.0                 0.0  ...   \n",
      "10009_Carpathia                                0.0                 0.0  ...   \n",
      "\n",
      "next_place             998_Cobra Island  9990_Elbonia  9991_Fook Island  \\\n",
      "current_place                                                             \n",
      "10001_Trans-Carpathia               0.0           0.0               0.0   \n",
      "10002_Elbonia                       0.0           0.0               0.0   \n",
      "10006_Bartovia                      0.0           0.0               0.0   \n",
      "10007_Novistrana                    0.0           0.0               0.0   \n",
      "10009_Carpathia                     0.0           0.0               0.0   \n",
      "\n",
      "next_place             9992_Fook Island  9993_Bultan  9994_Gondal  \\\n",
      "current_place                                                       \n",
      "10001_Trans-Carpathia               0.0          0.0          0.0   \n",
      "10002_Elbonia                       0.0          0.0          0.0   \n",
      "10006_Bartovia                      0.0          0.0          0.0   \n",
      "10007_Novistrana                    0.0          0.0          0.0   \n",
      "10009_Carpathia                     0.0          0.0          0.0   \n",
      "\n",
      "next_place             9995_Eurasia  9996_Holy Britannian Empire  9999_Gondal  \\\n",
      "current_place                                                                   \n",
      "10001_Trans-Carpathia           0.0                          0.0          0.0   \n",
      "10002_Elbonia                   0.0                          0.0          0.0   \n",
      "10006_Bartovia                  0.0                          0.0          0.0   \n",
      "10007_Novistrana                0.0                          0.0          0.0   \n",
      "10009_Carpathia                 0.0                          0.0          0.0   \n",
      "\n",
      "next_place             99_São Rico  \n",
      "current_place                       \n",
      "10001_Trans-Carpathia          0.0  \n",
      "10002_Elbonia                  0.0  \n",
      "10006_Bartovia                 0.0  \n",
      "10007_Novistrana               0.0  \n",
      "10009_Carpathia                0.0  \n",
      "\n",
      "[5 rows x 37615 columns]\n"
     ]
    }
   ],
   "source": [
    "#Generating Transition Pairs and Calculating Transition Probabilities:\n",
    "# MARKOV CHAINS\n",
    "    \n",
    "transitions = []\n",
    "\n",
    "for chain in trip_chains_df['city_country_chain']:\n",
    "    for i in range(len(chain) - 1):\n",
    "        transitions.append((chain[i], chain[i + 1]))\n",
    "\n",
    "transitions_df = pd.DataFrame(transitions, columns=['current_place', 'next_place'])\n",
    "transition_counts = transitions_df.groupby('current_place')['next_place'].value_counts(normalize=True).unstack(fill_value=0)\n",
    "print(transition_counts.head())"
   ]
  },
  {
   "cell_type": "code",
   "execution_count": 6,
   "id": "b3b0753a",
   "metadata": {},
   "outputs": [
    {
     "name": "stdout",
     "output_type": "stream",
     "text": [
      "    utrip_id  user_id                                      cities_chain  \\\n",
      "0  1000027_1  1000027                       [8183, 15626, 60902, 30628]   \n",
      "1  1000033_1  1000033               [38677, 52089, 21328, 27485, 38677]   \n",
      "2  1000045_1  1000045  [64876, 55128, 9608, 31817, 36170, 58178, 36063]   \n",
      "3  1000083_1  1000083                      [55990, 14705, 35160, 36063]   \n",
      "4   100008_1   100008                 [11306, 12096, 6761, 6779, 65690]   \n",
      "\n",
      "                                     countries_chain  trip_duration  \\\n",
      "0                   [Gondal, Gondal, Gondal, Gondal]              8   \n",
      "1  [Cobra Island, Cobra Island, Cobra Island, Cob...             10   \n",
      "2  [Fook Island, Fook Island, Fook Island, Carpat...             11   \n",
      "3          [Osterlich, Osterlich, Osterlich, Gondal]              5   \n",
      "4  [Kamistan, Kamistan, Kamistan, Kamistan, Kamis...              9   \n",
      "\n",
      "          stay_durations                                     device_classes  \\\n",
      "0           [1, 2, 2, 3]               [desktop, desktop, desktop, desktop]   \n",
      "1        [2, 1, 2, 2, 3]       [mobile, desktop, desktop, desktop, desktop]   \n",
      "2  [2, 2, 2, 1, 1, 2, 1]  [desktop, desktop, desktop, desktop, mobile, m...   \n",
      "3           [1, 1, 1, 2]                   [mobile, mobile, mobile, mobile]   \n",
      "4        [3, 1, 1, 2, 2]      [desktop, desktop, desktop, desktop, desktop]   \n",
      "\n",
      "                             affiliate_ids         checkin_months  \\\n",
      "0                  [7168, 7168, 7168, 253]           [8, 8, 8, 8]   \n",
      "1                [359, 384, 384, 384, 384]        [4, 4, 4, 4, 4]   \n",
      "2  [2790, 7974, 7974, 7974, 359, 359, 359]  [6, 6, 6, 6, 6, 6, 6]   \n",
      "3                     [359, 359, 359, 359]           [6, 6, 6, 6]   \n",
      "4           [8436, 8436, 8436, 8436, 8436]        [7, 7, 7, 7, 7]   \n",
      "\n",
      "    checkin_days_of_week                                 city_country_chain  \\\n",
      "0           [5, 6, 1, 3]  [8183_Gondal, 15626_Gondal, 60902_Gondal, 3062...   \n",
      "1        [5, 0, 1, 3, 5]  [38677_Cobra Island, 52089_Cobra Island, 21328...   \n",
      "2  [5, 0, 2, 4, 5, 6, 1]  [64876_Fook Island, 55128_Fook Island, 9608_Fo...   \n",
      "3           [0, 1, 2, 3]  [55990_Osterlich, 14705_Osterlich, 35160_Oster...   \n",
      "4        [0, 3, 4, 5, 0]  [11306_Kamistan, 12096_Kamistan, 6761_Kamistan...   \n",
      "\n",
      "  predict_next_city_country  \n",
      "0              60002_Gondal  \n",
      "1        21328_Cobra Island  \n",
      "2              36063_Gondal  \n",
      "3              36063_Gondal  \n",
      "4             6779_Kamistan  \n"
     ]
    }
   ],
   "source": [
    "#Predicting the Next City-Country and Adding Predictions to DataFrame:\n",
    "\n",
    "def predict_next_place(current_place):\n",
    "    if current_place in transition_counts.index:\n",
    "        return transition_counts.loc[current_place].idxmax()\n",
    "    else:\n",
    "        return None\n",
    "\n",
    "trip_chains_df['predict_next_city_country'] = trip_chains_df['city_country_chain'].apply(\n",
    "    lambda chain: predict_next_place(chain[-1]) if len(chain) > 0 else None)\n",
    "print(trip_chains_df.head())"
   ]
  },
  {
   "cell_type": "code",
   "execution_count": 7,
   "id": "8f87c849",
   "metadata": {},
   "outputs": [
    {
     "name": "stdout",
     "output_type": "stream",
     "text": [
      "Trip chains written to trip_chains_enhanced_withprednextcity.xlsx\n"
     ]
    }
   ],
   "source": [
    "# Writing the output of the predicted next city to an Excel file\n",
    "output_file = 'trip_chains_enhanced_withprednextcity.xlsx'\n",
    "trip_chains_df.to_excel(output_file, index=False)\n",
    "print(f'Trip chains written to {output_file}')"
   ]
  }
 ],
 "metadata": {
  "kernelspec": {
   "display_name": "Python 3 (ipykernel)",
   "language": "python",
   "name": "python3"
  },
  "language_info": {
   "codemirror_mode": {
    "name": "ipython",
    "version": 3
   },
   "file_extension": ".py",
   "mimetype": "text/x-python",
   "name": "python",
   "nbconvert_exporter": "python",
   "pygments_lexer": "ipython3",
   "version": "3.11.7"
  }
 },
 "nbformat": 4,
 "nbformat_minor": 5
}
